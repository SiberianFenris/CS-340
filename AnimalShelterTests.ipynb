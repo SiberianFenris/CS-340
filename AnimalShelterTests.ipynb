{
 "cells": [
  {
   "cell_type": "code",
   "execution_count": 42,
   "metadata": {
    "scrolled": true
   },
   "outputs": [
    {
     "data": {
      "text/plain": [
       "True"
      ]
     },
     "execution_count": 42,
     "metadata": {},
     "output_type": "execute_result"
    }
   ],
   "source": [
    "from AnimalShelter import AnimalShelter\n",
    "\n",
    "#Test to create animal entry\n",
    "animal_test = AnimalShelter(\"aacuser\", \"aacuser\")\n",
    "animal_test.create({'age_upon_outcome': '8 years', 'animal_id':'09SEPT15', 'animal_type': 'dog', 'breed': 'Siberian Husky', 'color': 'black/white'})"
   ]
  },
  {
   "cell_type": "code",
   "execution_count": 41,
   "metadata": {},
   "outputs": [
    {
     "name": "stdout",
     "output_type": "stream",
     "text": [
      "{'_id': ObjectId('63e08a07a260c35d3a329b62'), 'age_upon_outcome': '8 years', 'animal_id': '09SEPT15', 'animal_type': 'dog', 'breed': 'Siberian Husky', 'color': 'black/white'}\n",
      "{'_id': ObjectId('63e08ad1a260c35d3a329b64'), 'age_upon_outcome': '8 years', 'animal_id': '09SEPT15', 'animal_type': 'dog', 'breed': 'Siberian Husky', 'color': 'black/white'}\n",
      "{'_id': ObjectId('63e08ccba260c35d3a329b68'), 'age_upon_outcome': '8 years', 'animal_id': '09SEPT15', 'animal_type': 'dog', 'breed': 'Siberian Husky', 'color': 'black/white'}\n",
      "{'_id': ObjectId('63e08d1ea260c35d3a329b6a'), 'age_upon_outcome': '8 years', 'animal_id': '09SEPT15', 'animal_type': 'dog', 'breed': 'Siberian Husky', 'color': 'black/white'}\n",
      "{'_id': ObjectId('63e08dd1a260c35d3a329b6e'), 'age_upon_outcome': '8 years', 'animal_id': '09SEPT15', 'animal_type': 'dog', 'breed': 'Siberian Husky', 'color': 'black/white'}\n",
      "{'_id': ObjectId('63e08de4a260c35d3a329b70'), 'age_upon_outcome': '8 years', 'animal_id': '09SEPT15', 'animal_type': 'dog', 'breed': 'Siberian Husky', 'color': 'black/white'}\n",
      "{'_id': ObjectId('63e08e30a260c35d3a329b73'), 'age_upon_outcome': '8 years', 'animal_id': '09SEPT15', 'animal_type': 'dog', 'breed': 'Siberian Husky', 'color': 'black/white'}\n",
      "{'_id': ObjectId('63e08e47a260c35d3a329b75'), 'age_upon_outcome': '8 years', 'animal_id': '09SEPT15', 'animal_type': 'dog', 'breed': 'Siberian Husky', 'color': 'black/white'}\n",
      "{'_id': ObjectId('63e08e5ea260c35d3a329b77'), 'age_upon_outcome': '8 years', 'animal_id': '09SEPT15', 'animal_type': 'dog', 'breed': 'Siberian Husky', 'color': 'black/white'}\n"
     ]
    }
   ],
   "source": [
    "from AnimalShelter import AnimalShelter\n",
    "\n",
    "#Test to read/print out a test in JSON format\n",
    "animal_test = AnimalShelter(\"aacuser\", \"aacuser\")\n",
    "animal_search = animal_test.read({\"animal_type\": \"dog\"})\n",
    "for animals in animal_search:\n",
    "    print(animals)"
   ]
  },
  {
   "cell_type": "code",
   "execution_count": 38,
   "metadata": {
    "scrolled": false
   },
   "outputs": [
    {
     "name": "stdout",
     "output_type": "stream",
     "text": [
      "{'_id': ObjectId('63d76044031504af6002802c'), 'age_upon_outcome': '8 years', 'animal_id': '09SEPT15', 'animal_type': 'puppy', 'breed': 'Siberian Husky', 'color': 'black/white'}\n",
      "{'_id': ObjectId('63d76081031504af6002802e'), 'age_upon_outcome': '8 years', 'animal_id': '09SEPT15', 'animal_type': 'puppy', 'breed': 'Siberian Husky', 'color': 'black/white'}\n",
      "{'_id': ObjectId('63d7608d031504af60028030'), 'age_upon_outcome': '8 years', 'animal_id': '09SEPT15', 'animal_type': 'puppy', 'breed': 'Siberian Husky', 'color': 'black/white'}\n",
      "{'_id': ObjectId('63d76090031504af60028032'), 'age_upon_outcome': '8 years', 'animal_id': '09SEPT15', 'animal_type': 'puppy', 'breed': 'Siberian Husky', 'color': 'black/white'}\n",
      "{'_id': ObjectId('63d7612f031504af60028034'), 'age_upon_outcome': '8 years', 'animal_id': '09SEPT15', 'animal_type': 'puppy', 'breed': 'Siberian Husky', 'color': 'black/white'}\n",
      "{'_id': ObjectId('63d76131031504af60028036'), 'age_upon_outcome': '8 years', 'animal_id': '09SEPT15', 'animal_type': 'puppy', 'breed': 'Siberian Husky', 'color': 'black/white'}\n",
      "{'_id': ObjectId('63d7616d031504af60028039'), 'age_upon_outcome': '8 years', 'animal_id': '09SEPT15', 'animal_type': 'puppy', 'breed': 'Siberian Husky', 'color': 'black/white'}\n",
      "{'_id': ObjectId('63d76170031504af6002803b'), 'age_upon_outcome': '8 years', 'animal_id': '09SEPT15', 'animal_type': 'puppy', 'breed': 'Siberian Husky', 'color': 'black/white'}\n",
      "{'_id': ObjectId('63d761b0031504af6002803d'), 'age_upon_outcome': '8 years', 'animal_id': '09SEPT15', 'animal_type': 'puppy', 'breed': 'Siberian Husky', 'color': 'black/white'}\n",
      "{'_id': ObjectId('63e08730a260c35d3a329b50'), 'age_upon_outcome': '8 years', 'animal_id': '09SEPT15', 'animal_type': 'puppy', 'breed': 'Siberian Husky', 'color': 'black/white'}\n",
      "{'_id': ObjectId('63e08736a260c35d3a329b52'), 'age_upon_outcome': '8 years', 'animal_id': '09SEPT15', 'animal_type': 'puppy', 'breed': 'Siberian Husky', 'color': 'black/white'}\n",
      "{'_id': ObjectId('63e08877a260c35d3a329b54'), 'age_upon_outcome': '8 years', 'animal_id': '09SEPT15', 'animal_type': 'puppy', 'breed': 'Siberian Husky', 'color': 'black/white'}\n",
      "{'_id': ObjectId('63e0888ba260c35d3a329b56'), 'age_upon_outcome': '8 years', 'animal_id': '09SEPT15', 'animal_type': 'puppy', 'breed': 'Siberian Husky', 'color': 'black/white'}\n",
      "{'_id': ObjectId('63e08895a260c35d3a329b58'), 'age_upon_outcome': '8 years', 'animal_id': '09SEPT15', 'animal_type': 'puppy', 'breed': 'Siberian Husky', 'color': 'black/white'}\n",
      "{'_id': ObjectId('63e0889ca260c35d3a329b5a'), 'age_upon_outcome': '8 years', 'animal_id': '09SEPT15', 'animal_type': 'puppy', 'breed': 'Siberian Husky', 'color': 'black/white'}\n",
      "{'_id': ObjectId('63e08992a260c35d3a329b5c'), 'age_upon_outcome': '8 years', 'animal_id': '09SEPT15', 'animal_type': 'puppy', 'breed': 'Siberian Husky', 'color': 'black/white'}\n",
      "{'_id': ObjectId('63e089c6a260c35d3a329b5e'), 'age_upon_outcome': '8 years', 'animal_id': '09SEPT15', 'animal_type': 'puppy', 'breed': 'Siberian Husky', 'color': 'black/white'}\n",
      "{'_id': ObjectId('63e089d8a260c35d3a329b60'), 'age_upon_outcome': '8 years', 'animal_id': '09SEPT15', 'animal_type': 'puppy', 'breed': 'Siberian Husky', 'color': 'black/white'}\n"
     ]
    }
   ],
   "source": [
    "from AnimalShelter import AnimalShelter\n",
    "\n",
    "#Test to update animal entry\n",
    "animal_test = AnimalShelter(\"aacuser\", \"aacuser\")\n",
    "animal_test.update({\"animal_type\": \"dog\"},{\"$set\": {\"animal_type\": \"puppy\"}})\n",
    "\n",
    "animal_search = animal_test.read({\"animal_type\": \"puppy\"})\n",
    "for animals in animal_search:\n",
    "    print(animals)"
   ]
  },
  {
   "cell_type": "code",
   "execution_count": 1,
   "metadata": {
    "scrolled": false
   },
   "outputs": [
    {
     "ename": "TypeError",
     "evalue": "'Collection' object is not callable. If you meant to call the 'delete' method on a 'Collection' object it is failing because no such method exists.",
     "output_type": "error",
     "traceback": [
      "\u001b[0;31m---------------------------------------------------------------------------\u001b[0m",
      "\u001b[0;31mTypeError\u001b[0m                                 Traceback (most recent call last)",
      "\u001b[0;32m<ipython-input-1-94ea4262d580>\u001b[0m in \u001b[0;36m<module>\u001b[0;34m\u001b[0m\n\u001b[1;32m      3\u001b[0m \u001b[0;31m#Test to delete animal entry\u001b[0m\u001b[0;34m\u001b[0m\u001b[0;34m\u001b[0m\u001b[0;34m\u001b[0m\u001b[0m\n\u001b[1;32m      4\u001b[0m \u001b[0manimal_test\u001b[0m \u001b[0;34m=\u001b[0m \u001b[0mAnimalShelter\u001b[0m\u001b[0;34m(\u001b[0m\u001b[0;34m\"aacuser\"\u001b[0m\u001b[0;34m,\u001b[0m \u001b[0;34m\"aacuser\"\u001b[0m\u001b[0;34m)\u001b[0m\u001b[0;34m\u001b[0m\u001b[0;34m\u001b[0m\u001b[0m\n\u001b[0;32m----> 5\u001b[0;31m \u001b[0manimal_test\u001b[0m\u001b[0;34m.\u001b[0m\u001b[0mdelete\u001b[0m\u001b[0;34m(\u001b[0m\u001b[0;34m{\u001b[0m\u001b[0;34m\"animal_id\"\u001b[0m\u001b[0;34m:\u001b[0m \u001b[0;34m\"09SEPT15\"\u001b[0m\u001b[0;34m}\u001b[0m\u001b[0;34m)\u001b[0m\u001b[0;34m\u001b[0m\u001b[0;34m\u001b[0m\u001b[0m\n\u001b[0m",
      "\u001b[0;32m~/AnimalShelter.py\u001b[0m in \u001b[0;36mdelete\u001b[0;34m(self, data)\u001b[0m\n\u001b[1;32m     37\u001b[0m     \u001b[0;32mdef\u001b[0m \u001b[0mdelete\u001b[0m\u001b[0;34m(\u001b[0m\u001b[0mself\u001b[0m\u001b[0;34m,\u001b[0m \u001b[0mdata\u001b[0m\u001b[0;34m)\u001b[0m\u001b[0;34m:\u001b[0m\u001b[0;34m\u001b[0m\u001b[0;34m\u001b[0m\u001b[0m\n\u001b[1;32m     38\u001b[0m         \u001b[0;32mif\u001b[0m \u001b[0mdata\u001b[0m \u001b[0;32mis\u001b[0m \u001b[0;32mnot\u001b[0m \u001b[0;32mNone\u001b[0m\u001b[0;34m:\u001b[0m\u001b[0;34m\u001b[0m\u001b[0;34m\u001b[0m\u001b[0m\n\u001b[0;32m---> 39\u001b[0;31m             \u001b[0mdelete_animal\u001b[0m \u001b[0;34m=\u001b[0m \u001b[0mself\u001b[0m\u001b[0;34m.\u001b[0m\u001b[0mdatabase\u001b[0m\u001b[0;34m.\u001b[0m\u001b[0manimals\u001b[0m\u001b[0;34m.\u001b[0m\u001b[0mdelete\u001b[0m\u001b[0;34m(\u001b[0m\u001b[0mdata\u001b[0m\u001b[0;34m)\u001b[0m\u001b[0;34m\u001b[0m\u001b[0;34m\u001b[0m\u001b[0m\n\u001b[0m\u001b[1;32m     40\u001b[0m             \u001b[0;32mreturn\u001b[0m \u001b[0mdelete_animal\u001b[0m\u001b[0;34m\u001b[0m\u001b[0;34m\u001b[0m\u001b[0m\n\u001b[1;32m     41\u001b[0m         \u001b[0;32melse\u001b[0m\u001b[0;34m:\u001b[0m\u001b[0;34m\u001b[0m\u001b[0;34m\u001b[0m\u001b[0m\n",
      "\u001b[0;32m/usr/local/anaconda/lib/python3.6/site-packages/pymongo/collection.py\u001b[0m in \u001b[0;36m__call__\u001b[0;34m(self, *args, **kwargs)\u001b[0m\n\u001b[1;32m   3341\u001b[0m                         \u001b[0;34m\"call the '%s' method on a 'Collection' object it is \"\u001b[0m\u001b[0;34m\u001b[0m\u001b[0;34m\u001b[0m\u001b[0m\n\u001b[1;32m   3342\u001b[0m                         \u001b[0;34m\"failing because no such method exists.\"\u001b[0m \u001b[0;34m%\u001b[0m\u001b[0;34m\u001b[0m\u001b[0;34m\u001b[0m\u001b[0m\n\u001b[0;32m-> 3343\u001b[0;31m                         self.__name.split(\".\")[-1])\n\u001b[0m",
      "\u001b[0;31mTypeError\u001b[0m: 'Collection' object is not callable. If you meant to call the 'delete' method on a 'Collection' object it is failing because no such method exists."
     ]
    }
   ],
   "source": [
    "from AnimalShelter import AnimalShelter\n",
    "\n",
    "#Test to delete animal entry\n",
    "animal_test = AnimalShelter(\"aacuser\", \"aacuser\")\n",
    "animal_test.delete({\"animal_id\": \"09SEPT15\"})"
   ]
  },
  {
   "cell_type": "code",
   "execution_count": null,
   "metadata": {},
   "outputs": [],
   "source": []
  },
  {
   "cell_type": "code",
   "execution_count": null,
   "metadata": {},
   "outputs": [],
   "source": []
  },
  {
   "cell_type": "code",
   "execution_count": null,
   "metadata": {},
   "outputs": [],
   "source": []
  },
  {
   "cell_type": "code",
   "execution_count": null,
   "metadata": {},
   "outputs": [],
   "source": []
  },
  {
   "cell_type": "code",
   "execution_count": null,
   "metadata": {},
   "outputs": [],
   "source": []
  },
  {
   "cell_type": "code",
   "execution_count": null,
   "metadata": {},
   "outputs": [],
   "source": []
  },
  {
   "cell_type": "code",
   "execution_count": null,
   "metadata": {},
   "outputs": [],
   "source": []
  },
  {
   "cell_type": "code",
   "execution_count": null,
   "metadata": {},
   "outputs": [],
   "source": []
  },
  {
   "cell_type": "code",
   "execution_count": null,
   "metadata": {},
   "outputs": [],
   "source": []
  },
  {
   "cell_type": "code",
   "execution_count": null,
   "metadata": {},
   "outputs": [],
   "source": []
  },
  {
   "cell_type": "code",
   "execution_count": null,
   "metadata": {},
   "outputs": [],
   "source": []
  },
  {
   "cell_type": "code",
   "execution_count": null,
   "metadata": {},
   "outputs": [],
   "source": []
  },
  {
   "cell_type": "code",
   "execution_count": null,
   "metadata": {},
   "outputs": [],
   "source": []
  },
  {
   "cell_type": "code",
   "execution_count": null,
   "metadata": {},
   "outputs": [],
   "source": []
  },
  {
   "cell_type": "code",
   "execution_count": null,
   "metadata": {},
   "outputs": [],
   "source": []
  },
  {
   "cell_type": "code",
   "execution_count": null,
   "metadata": {},
   "outputs": [],
   "source": []
  },
  {
   "cell_type": "code",
   "execution_count": null,
   "metadata": {},
   "outputs": [],
   "source": []
  },
  {
   "cell_type": "code",
   "execution_count": null,
   "metadata": {},
   "outputs": [],
   "source": []
  }
 ],
 "metadata": {
  "kernelspec": {
   "display_name": "Python 3",
   "language": "python",
   "name": "python3"
  },
  "language_info": {
   "codemirror_mode": {
    "name": "ipython",
    "version": 3
   },
   "file_extension": ".py",
   "mimetype": "text/x-python",
   "name": "python",
   "nbconvert_exporter": "python",
   "pygments_lexer": "ipython3",
   "version": "3.6.9"
  }
 },
 "nbformat": 4,
 "nbformat_minor": 2
}
